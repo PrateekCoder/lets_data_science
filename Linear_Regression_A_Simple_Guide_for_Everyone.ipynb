{
  "cells": [
    {
      "cell_type": "markdown",
      "metadata": {
        "id": "view-in-github",
        "colab_type": "text"
      },
      "source": [
        "<a href=\"https://colab.research.google.com/github/PrateekCoder/lets_data_science/blob/main/Linear_Regression_A_Simple_Guide_for_Everyone.ipynb\" target=\"_parent\"><img src=\"https://colab.research.google.com/assets/colab-badge.svg\" alt=\"Open In Colab\"/></a>"
      ]
    },
    {
      "cell_type": "markdown",
      "id": "e8f377df-5b2c-499f-b718-098d0b9a1140",
      "metadata": {
        "id": "e8f377df-5b2c-499f-b718-098d0b9a1140"
      },
      "source": [
        "## Import all the required packages"
      ]
    },
    {
      "cell_type": "code",
      "execution_count": null,
      "id": "bd9f945f-ebfe-4d91-b57f-8bfde7768166",
      "metadata": {
        "id": "bd9f945f-ebfe-4d91-b57f-8bfde7768166"
      },
      "outputs": [],
      "source": [
        "import pandas as pd\n",
        "import numpy as np\n",
        "from sklearn.model_selection import train_test_split \n",
        "from sklearn.linear_model import LinearRegression\n",
        "from sklearn import metrics\n",
        "import seaborn as sns\n",
        "import matplotlib.pyplot as plt"
      ]
    },
    {
      "cell_type": "markdown",
      "id": "4bc4f6c4-fd7e-410e-9b9f-ce4797d53f20",
      "metadata": {
        "id": "4bc4f6c4-fd7e-410e-9b9f-ce4797d53f20"
      },
      "source": [
        "## Load the Dataset"
      ]
    },
    {
      "cell_type": "code",
      "execution_count": null,
      "id": "3d748afe-4d7e-4504-9182-32f05455f62a",
      "metadata": {
        "id": "3d748afe-4d7e-4504-9182-32f05455f62a"
      },
      "outputs": [],
      "source": [
        "dataset = pd.read_csv('USA_Housing.csv')"
      ]
    },
    {
      "cell_type": "markdown",
      "id": "ee3dbff5-5016-49d7-ad09-e757ed4c0acb",
      "metadata": {
        "id": "ee3dbff5-5016-49d7-ad09-e757ed4c0acb"
      },
      "source": [
        "## Seperate Dependent and Independent Variables"
      ]
    },
    {
      "cell_type": "code",
      "execution_count": null,
      "id": "652439b0-f718-4aef-9c16-67aaf05f7833",
      "metadata": {
        "id": "652439b0-f718-4aef-9c16-67aaf05f7833"
      },
      "outputs": [],
      "source": [
        "X = dataset['Avg. Area Income'].values.reshape(-1,1)\n",
        "y = dataset['Price'].values.reshape(-1,1)"
      ]
    },
    {
      "cell_type": "markdown",
      "id": "bf82400b-42db-4fff-b87e-dafebd850c82",
      "metadata": {
        "id": "bf82400b-42db-4fff-b87e-dafebd850c82"
      },
      "source": [
        "## Split the data into test and teain (80/20)"
      ]
    },
    {
      "cell_type": "code",
      "execution_count": null,
      "id": "67933dcd-32c6-4e70-868e-5aa46ec71096",
      "metadata": {
        "id": "67933dcd-32c6-4e70-868e-5aa46ec71096"
      },
      "outputs": [],
      "source": [
        "X_train, X_test, y_train, y_test = train_test_split(X, y, test_size=0.2, random_state=0)"
      ]
    },
    {
      "cell_type": "markdown",
      "id": "6556ef94-c117-4753-a9da-664f2d52f4f7",
      "metadata": {
        "id": "6556ef94-c117-4753-a9da-664f2d52f4f7"
      },
      "source": [
        "## Create the Linear Regression Model using sci-kit learn"
      ]
    },
    {
      "cell_type": "code",
      "execution_count": null,
      "id": "bcc77604-2352-4853-bfc0-fe05e2c2a482",
      "metadata": {
        "colab": {
          "base_uri": "https://localhost:8080/",
          "height": 74
        },
        "id": "bcc77604-2352-4853-bfc0-fe05e2c2a482",
        "outputId": "413c6dae-779f-407f-dae8-572dbe410abb"
      },
      "outputs": [
        {
          "output_type": "execute_result",
          "data": {
            "text/plain": [
              "LinearRegression()"
            ],
            "text/html": [
              "<style>#sk-container-id-1 {color: black;background-color: white;}#sk-container-id-1 pre{padding: 0;}#sk-container-id-1 div.sk-toggleable {background-color: white;}#sk-container-id-1 label.sk-toggleable__label {cursor: pointer;display: block;width: 100%;margin-bottom: 0;padding: 0.3em;box-sizing: border-box;text-align: center;}#sk-container-id-1 label.sk-toggleable__label-arrow:before {content: \"▸\";float: left;margin-right: 0.25em;color: #696969;}#sk-container-id-1 label.sk-toggleable__label-arrow:hover:before {color: black;}#sk-container-id-1 div.sk-estimator:hover label.sk-toggleable__label-arrow:before {color: black;}#sk-container-id-1 div.sk-toggleable__content {max-height: 0;max-width: 0;overflow: hidden;text-align: left;background-color: #f0f8ff;}#sk-container-id-1 div.sk-toggleable__content pre {margin: 0.2em;color: black;border-radius: 0.25em;background-color: #f0f8ff;}#sk-container-id-1 input.sk-toggleable__control:checked~div.sk-toggleable__content {max-height: 200px;max-width: 100%;overflow: auto;}#sk-container-id-1 input.sk-toggleable__control:checked~label.sk-toggleable__label-arrow:before {content: \"▾\";}#sk-container-id-1 div.sk-estimator input.sk-toggleable__control:checked~label.sk-toggleable__label {background-color: #d4ebff;}#sk-container-id-1 div.sk-label input.sk-toggleable__control:checked~label.sk-toggleable__label {background-color: #d4ebff;}#sk-container-id-1 input.sk-hidden--visually {border: 0;clip: rect(1px 1px 1px 1px);clip: rect(1px, 1px, 1px, 1px);height: 1px;margin: -1px;overflow: hidden;padding: 0;position: absolute;width: 1px;}#sk-container-id-1 div.sk-estimator {font-family: monospace;background-color: #f0f8ff;border: 1px dotted black;border-radius: 0.25em;box-sizing: border-box;margin-bottom: 0.5em;}#sk-container-id-1 div.sk-estimator:hover {background-color: #d4ebff;}#sk-container-id-1 div.sk-parallel-item::after {content: \"\";width: 100%;border-bottom: 1px solid gray;flex-grow: 1;}#sk-container-id-1 div.sk-label:hover label.sk-toggleable__label {background-color: #d4ebff;}#sk-container-id-1 div.sk-serial::before {content: \"\";position: absolute;border-left: 1px solid gray;box-sizing: border-box;top: 0;bottom: 0;left: 50%;z-index: 0;}#sk-container-id-1 div.sk-serial {display: flex;flex-direction: column;align-items: center;background-color: white;padding-right: 0.2em;padding-left: 0.2em;position: relative;}#sk-container-id-1 div.sk-item {position: relative;z-index: 1;}#sk-container-id-1 div.sk-parallel {display: flex;align-items: stretch;justify-content: center;background-color: white;position: relative;}#sk-container-id-1 div.sk-item::before, #sk-container-id-1 div.sk-parallel-item::before {content: \"\";position: absolute;border-left: 1px solid gray;box-sizing: border-box;top: 0;bottom: 0;left: 50%;z-index: -1;}#sk-container-id-1 div.sk-parallel-item {display: flex;flex-direction: column;z-index: 1;position: relative;background-color: white;}#sk-container-id-1 div.sk-parallel-item:first-child::after {align-self: flex-end;width: 50%;}#sk-container-id-1 div.sk-parallel-item:last-child::after {align-self: flex-start;width: 50%;}#sk-container-id-1 div.sk-parallel-item:only-child::after {width: 0;}#sk-container-id-1 div.sk-dashed-wrapped {border: 1px dashed gray;margin: 0 0.4em 0.5em 0.4em;box-sizing: border-box;padding-bottom: 0.4em;background-color: white;}#sk-container-id-1 div.sk-label label {font-family: monospace;font-weight: bold;display: inline-block;line-height: 1.2em;}#sk-container-id-1 div.sk-label-container {text-align: center;}#sk-container-id-1 div.sk-container {/* jupyter's `normalize.less` sets `[hidden] { display: none; }` but bootstrap.min.css set `[hidden] { display: none !important; }` so we also need the `!important` here to be able to override the default hidden behavior on the sphinx rendered scikit-learn.org. See: https://github.com/scikit-learn/scikit-learn/issues/21755 */display: inline-block !important;position: relative;}#sk-container-id-1 div.sk-text-repr-fallback {display: none;}</style><div id=\"sk-container-id-1\" class=\"sk-top-container\"><div class=\"sk-text-repr-fallback\"><pre>LinearRegression()</pre><b>In a Jupyter environment, please rerun this cell to show the HTML representation or trust the notebook. <br />On GitHub, the HTML representation is unable to render, please try loading this page with nbviewer.org.</b></div><div class=\"sk-container\" hidden><div class=\"sk-item\"><div class=\"sk-estimator sk-toggleable\"><input class=\"sk-toggleable__control sk-hidden--visually\" id=\"sk-estimator-id-1\" type=\"checkbox\" checked><label for=\"sk-estimator-id-1\" class=\"sk-toggleable__label sk-toggleable__label-arrow\">LinearRegression</label><div class=\"sk-toggleable__content\"><pre>LinearRegression()</pre></div></div></div></div></div>"
            ]
          },
          "metadata": {},
          "execution_count": 5
        }
      ],
      "source": [
        "regressor = LinearRegression()  \n",
        "regressor.fit(X_train, y_train)"
      ]
    },
    {
      "cell_type": "markdown",
      "id": "a49bbc01-ffba-491e-8e7c-508e03809793",
      "metadata": {
        "id": "a49bbc01-ffba-491e-8e7c-508e03809793"
      },
      "source": [
        "## Retrieve the intercept and the slope of the model"
      ]
    },
    {
      "cell_type": "code",
      "execution_count": null,
      "id": "d3de85df-3d80-4b75-8ba4-b650aaee5d05",
      "metadata": {
        "colab": {
          "base_uri": "https://localhost:8080/"
        },
        "id": "d3de85df-3d80-4b75-8ba4-b650aaee5d05",
        "outputId": "996dc7bf-fb61-4cbf-a9dc-afaca777deff"
      },
      "outputs": [
        {
          "output_type": "stream",
          "name": "stdout",
          "text": [
            "Intercept:  [-224617.80109278]\n",
            "Coefficients:  [[21.24368249]]\n"
          ]
        }
      ],
      "source": [
        "print(\"Intercept: \", regressor.intercept_)\n",
        "\n",
        "print(\"Coefficients: \", regressor.coef_)"
      ]
    },
    {
      "cell_type": "markdown",
      "id": "f97fe04f-ab57-4a1d-902a-b4fc5df5dbd1",
      "metadata": {
        "id": "f97fe04f-ab57-4a1d-902a-b4fc5df5dbd1"
      },
      "source": [
        "## Make the prediction"
      ]
    },
    {
      "cell_type": "code",
      "execution_count": null,
      "id": "c4908add-0874-4586-9c9b-ed190c3e3506",
      "metadata": {
        "id": "c4908add-0874-4586-9c9b-ed190c3e3506"
      },
      "outputs": [],
      "source": [
        "y_pred = regressor.predict(X_test)"
      ]
    },
    {
      "cell_type": "markdown",
      "id": "e4a529a7-6953-4e66-8f96-73350b350287",
      "metadata": {
        "id": "e4a529a7-6953-4e66-8f96-73350b350287"
      },
      "source": [
        "## Evaluating the Model"
      ]
    },
    {
      "cell_type": "code",
      "execution_count": null,
      "id": "377fd68a-4596-47b8-be98-6398e4b8a959",
      "metadata": {
        "colab": {
          "base_uri": "https://localhost:8080/"
        },
        "id": "377fd68a-4596-47b8-be98-6398e4b8a959",
        "outputId": "4941514d-b3bc-4771-ec81-80618ba17847"
      },
      "outputs": [
        {
          "output_type": "stream",
          "name": "stdout",
          "text": [
            "Mean Absolute Error: 219728.33602368197\n",
            "Mean Squared Error: 74084394125.46416\n",
            "Root Mean Squared Error: 272184.4854606231\n"
          ]
        }
      ],
      "source": [
        "print('Mean Absolute Error:', metrics.mean_absolute_error(y_test, y_pred))  \n",
        "print('Mean Squared Error:', metrics.mean_squared_error(y_test, y_pred))  \n",
        "print('Root Mean Squared Error:', np.sqrt(metrics.mean_squared_error(y_test, y_pred)))"
      ]
    },
    {
      "cell_type": "markdown",
      "id": "397f9984-ead8-436b-8809-6b7b74dd1bad",
      "metadata": {
        "id": "397f9984-ead8-436b-8809-6b7b74dd1bad"
      },
      "source": [
        "## Compare Your Prediction"
      ]
    },
    {
      "cell_type": "code",
      "execution_count": null,
      "id": "602f5fe1-65c4-46cd-919c-eed39cc072b1",
      "metadata": {
        "colab": {
          "base_uri": "https://localhost:8080/"
        },
        "id": "602f5fe1-65c4-46cd-919c-eed39cc072b1",
        "outputId": "a7c86025-a8de-458a-bf25-0aa856931183"
      },
      "outputs": [
        {
          "output_type": "stream",
          "name": "stdout",
          "text": [
            "         Actual   Predicted\n",
            "0     894251.07  1075510.99\n",
            "1     932979.36  1121824.10\n",
            "2     920747.91  1288108.06\n",
            "3     691854.92   844869.13\n",
            "4     732733.24   933916.06\n",
            "..          ...         ...\n",
            "995   754960.55  1314962.15\n",
            "996  1205568.37  1026832.95\n",
            "997   668255.48   825335.64\n",
            "998  1398760.05  1265382.49\n",
            "999  1277380.53  1258946.75\n",
            "\n",
            "[1000 rows x 2 columns]\n"
          ]
        }
      ],
      "source": [
        "df = pd.DataFrame({'Actual': y_test.flatten(), 'Predicted': y_pred.flatten()})\n",
        "df = df.round(2)\n",
        "print(df)"
      ]
    },
    {
      "cell_type": "markdown",
      "id": "4e446ee9-b89e-4c97-9763-8282892a15cc",
      "metadata": {
        "id": "4e446ee9-b89e-4c97-9763-8282892a15cc"
      },
      "source": [
        "## Visualizing our predicted prices with actual price"
      ]
    },
    {
      "cell_type": "code",
      "execution_count": null,
      "id": "3e81cd8f-4b31-40a2-90ca-37773cc9c1f0",
      "metadata": {
        "colab": {
          "base_uri": "https://localhost:8080/",
          "height": 695
        },
        "id": "3e81cd8f-4b31-40a2-90ca-37773cc9c1f0",
        "outputId": "ae1c51bc-8bc7-43f4-b14b-93956c70413e"
      },
      "outputs": [
        {
          "output_type": "display_data",
          "data": {
            "text/plain": [
              "<Figure size 1000x800 with 1 Axes>"
            ],
            "image/png": "[encoded data removed]"
          },
          "metadata": {}
        }
      ],
      "source": [
        "df1 = df.head(25)\n",
        "df1.plot(kind='bar',figsize=(10,8))\n",
        "plt.grid(which='major', linestyle='-', linewidth='0.5', color='green')\n",
        "plt.grid(which='minor', linestyle=':', linewidth='0.5', color='black')\n",
        "plt.show()"
      ]
    },
    {
      "cell_type": "code",
      "source": [],
      "metadata": {
        "id": "1fdKNFNGOR2g"
      },
      "id": "1fdKNFNGOR2g",
      "execution_count": null,
      "outputs": []
    }
  ],
  "metadata": {
    "kernelspec": {
      "display_name": "Python 3 (ipykernel)",
      "language": "python",
      "name": "python3"
    },
    "language_info": {
      "codemirror_mode": {
        "name": "ipython",
        "version": 3
      },
      "file_extension": ".py",
      "mimetype": "text/x-python",
      "name": "python",
      "nbconvert_exporter": "python",
      "pygments_lexer": "ipython3",
      "version": "3.10.8"
    },
    "colab": {
      "provenance": [],
      "include_colab_link": true
    }
  },
  "nbformat": 4,
  "nbformat_minor": 5
}